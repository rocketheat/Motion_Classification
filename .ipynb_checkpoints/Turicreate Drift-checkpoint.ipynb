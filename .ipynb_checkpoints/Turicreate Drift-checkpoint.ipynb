{
 "cells": [
  {
   "cell_type": "markdown",
   "metadata": {},
   "source": [
    "## Load Data"
   ]
  },
  {
   "cell_type": "code",
   "execution_count": 1,
   "metadata": {},
   "outputs": [],
   "source": [
    "# Load Libraries\n",
    "\n",
    "import numpy as np\n",
    "import pandas as pd\n",
    "import glob, os\n",
    "from driftDataPreprocessing import sequenceNormalize, dataSplitShuffle"
   ]
  },
  {
   "cell_type": "code",
   "execution_count": 2,
   "metadata": {},
   "outputs": [],
   "source": [
    "def readDriftData(dir, pattern, drift=True):\n",
    "    \"\"\"\n",
    "    Read Data Function \n",
    "    Input: \n",
    "        1. dir: data directory\n",
    "        2. pattern: files pattern\n",
    "        3. drift: boolean. True if drift, False if no drift. This is under the assumption of only 100 drift files\n",
    "    \"\"\"\n",
    "    if drift:\n",
    "        driftData = dict()\n",
    "        for pathAndFilename in glob.iglob(os.path.join(dir, pattern)):\n",
    "            title, ext = os.path.splitext(os.path.basename(pathAndFilename))\n",
    "            driftData[title] = np.loadtxt(pathAndFilename, delimiter=',', skiprows=1)[:50, 1:]\n",
    "            driftData[title] = np.insert(driftData[title], 3, int(title)+100, axis=1)\n",
    "            \n",
    "    else:\n",
    "        driftData = dict()\n",
    "        for pathAndFilename in glob.iglob(os.path.join(dir, pattern)):\n",
    "            title, ext = os.path.splitext(os.path.basename(pathAndFilename))\n",
    "            driftData[title] = np.loadtxt(pathAndFilename, delimiter=',', skiprows=1)[:50, 1:]\n",
    "            driftData[title] = np.insert(driftData[title], 3, int(title), axis=1)\n",
    "            \n",
    "    return np.stack(driftData.values())"
   ]
  },
  {
   "cell_type": "code",
   "execution_count": 3,
   "metadata": {},
   "outputs": [],
   "source": [
    "# Load the data\n",
    "\n",
    "driftData1 = readDriftData('./Drift_Data/Drift/NoDrift', '*.*', False)\n",
    "driftData2 = readDriftData('./Drift_Data/Drift/Drift', '*.*', True)"
   ]
  },
  {
   "cell_type": "code",
   "execution_count": 4,
   "metadata": {},
   "outputs": [],
   "source": [
    "# combine both drift and no drift data\n",
    "driftData = np.vstack([driftData1, driftData2])\n",
    "\n",
    "# Define Data Dimensions\n",
    "driftDataAxis0 = driftData.shape[0]\n",
    "driftDataAxis1 = driftData.shape[1]\n",
    "driftDataAxis2 = driftData.shape[2]\n",
    "\n",
    "# Flattening the data\n",
    "flattenData = driftData.reshape(driftDataAxis0 * driftDataAxis1, driftDataAxis2)"
   ]
  },
  {
   "cell_type": "code",
   "execution_count": 5,
   "metadata": {},
   "outputs": [],
   "source": [
    "# Adding exp_id data\n",
    "exp_id = flattenData[:, -1]\n",
    "data_to_normalize = flattenData[:, :-1]\n",
    "\n",
    "# Normalizing the data\n",
    "scaler = sequenceNormalize(data_to_normalize)\n",
    "normalizedData = scaler.transform(data_to_normalize)\n",
    "\n",
    "# Reshape the data\n",
    "driftDataReshape = np.insert(normalizedData, 3, exp_id, axis=1)"
   ]
  },
  {
   "cell_type": "code",
   "execution_count": 6,
   "metadata": {},
   "outputs": [],
   "source": [
    "# Converting the data into data frame prior to converting it to SFrame\n",
    "driftFrame = pd.DataFrame(driftDataReshape, columns=['acc_x', 'acc_y', 'acc_z', 'exp_id'])\n",
    "driftFrame['exp_id'] = driftFrame['exp_id'].astype('int')\n",
    "driftFrame['exp_id'] = driftFrame['exp_id'].astype('int')"
   ]
  },
  {
   "cell_type": "code",
   "execution_count": 7,
   "metadata": {},
   "outputs": [],
   "source": [
    "# Converting the data into SFrame\n",
    "import turicreate as tc\n",
    "\n",
    "driftSFrame = tc.SFrame(data=driftFrame)\n",
    "\n",
    "target_map = {\n",
    "    1.: 'drift',\n",
    "    2.: 'no_drift',\n",
    "}\n",
    "\n",
    "driftSFrame['activity_id'] = driftSFrame['exp_id'].apply(lambda x: 1. if x>=100 else 2.)\n",
    "driftSFrame['activity'] = driftSFrame['activity_id'].apply(lambda x: target_map[x])\n",
    "driftSFrame = driftSFrame.remove_column('activity_id')"
   ]
  },
  {
   "cell_type": "code",
   "execution_count": 8,
   "metadata": {},
   "outputs": [
    {
     "data": {
      "text/html": [
       "<div style=\"max-height:1000px;max-width:1500px;overflow:auto;\"><table frame=\"box\" rules=\"cols\">\n",
       "    <tr>\n",
       "        <th style=\"padding-left: 1em; padding-right: 1em; text-align: center\">acc_x</th>\n",
       "        <th style=\"padding-left: 1em; padding-right: 1em; text-align: center\">acc_y</th>\n",
       "        <th style=\"padding-left: 1em; padding-right: 1em; text-align: center\">acc_z</th>\n",
       "        <th style=\"padding-left: 1em; padding-right: 1em; text-align: center\">exp_id</th>\n",
       "        <th style=\"padding-left: 1em; padding-right: 1em; text-align: center\">activity</th>\n",
       "    </tr>\n",
       "    <tr>\n",
       "        <td style=\"padding-left: 1em; padding-right: 1em; text-align: center; vertical-align: top\">0.8689566699493465</td>\n",
       "        <td style=\"padding-left: 1em; padding-right: 1em; text-align: center; vertical-align: top\">0.030194472876151485</td>\n",
       "        <td style=\"padding-left: 1em; padding-right: 1em; text-align: center; vertical-align: top\">0.8398534896490352</td>\n",
       "        <td style=\"padding-left: 1em; padding-right: 1em; text-align: center; vertical-align: top\">97</td>\n",
       "        <td style=\"padding-left: 1em; padding-right: 1em; text-align: center; vertical-align: top\">no_drift</td>\n",
       "    </tr>\n",
       "    <tr>\n",
       "        <td style=\"padding-left: 1em; padding-right: 1em; text-align: center; vertical-align: top\">0.8648677051106162</td>\n",
       "        <td style=\"padding-left: 1em; padding-right: 1em; text-align: center; vertical-align: top\">0.032402733420436924</td>\n",
       "        <td style=\"padding-left: 1em; padding-right: 1em; text-align: center; vertical-align: top\">0.8413133324638574</td>\n",
       "        <td style=\"padding-left: 1em; padding-right: 1em; text-align: center; vertical-align: top\">97</td>\n",
       "        <td style=\"padding-left: 1em; padding-right: 1em; text-align: center; vertical-align: top\">no_drift</td>\n",
       "    </tr>\n",
       "    <tr>\n",
       "        <td style=\"padding-left: 1em; padding-right: 1em; text-align: center; vertical-align: top\">0.8648677051106162</td>\n",
       "        <td style=\"padding-left: 1em; padding-right: 1em; text-align: center; vertical-align: top\">0.032402733420436924</td>\n",
       "        <td style=\"padding-left: 1em; padding-right: 1em; text-align: center; vertical-align: top\">0.8413133324638574</td>\n",
       "        <td style=\"padding-left: 1em; padding-right: 1em; text-align: center; vertical-align: top\">97</td>\n",
       "        <td style=\"padding-left: 1em; padding-right: 1em; text-align: center; vertical-align: top\">no_drift</td>\n",
       "    </tr>\n",
       "    <tr>\n",
       "        <td style=\"padding-left: 1em; padding-right: 1em; text-align: center; vertical-align: top\">0.8605266709015283</td>\n",
       "        <td style=\"padding-left: 1em; padding-right: 1em; text-align: center; vertical-align: top\">0.03356556027313898</td>\n",
       "        <td style=\"padding-left: 1em; padding-right: 1em; text-align: center; vertical-align: top\">0.8519728153594756</td>\n",
       "        <td style=\"padding-left: 1em; padding-right: 1em; text-align: center; vertical-align: top\">97</td>\n",
       "        <td style=\"padding-left: 1em; padding-right: 1em; text-align: center; vertical-align: top\">no_drift</td>\n",
       "    </tr>\n",
       "    <tr>\n",
       "        <td style=\"padding-left: 1em; padding-right: 1em; text-align: center; vertical-align: top\">0.8605266709015283</td>\n",
       "        <td style=\"padding-left: 1em; padding-right: 1em; text-align: center; vertical-align: top\">0.03356556027313898</td>\n",
       "        <td style=\"padding-left: 1em; padding-right: 1em; text-align: center; vertical-align: top\">0.8519728153594756</td>\n",
       "        <td style=\"padding-left: 1em; padding-right: 1em; text-align: center; vertical-align: top\">97</td>\n",
       "        <td style=\"padding-left: 1em; padding-right: 1em; text-align: center; vertical-align: top\">no_drift</td>\n",
       "    </tr>\n",
       "    <tr>\n",
       "        <td style=\"padding-left: 1em; padding-right: 1em; text-align: center; vertical-align: top\">0.8580228299734316</td>\n",
       "        <td style=\"padding-left: 1em; padding-right: 1em; text-align: center; vertical-align: top\">0.04306171517119414</td>\n",
       "        <td style=\"padding-left: 1em; padding-right: 1em; text-align: center; vertical-align: top\">0.855810930627875</td>\n",
       "        <td style=\"padding-left: 1em; padding-right: 1em; text-align: center; vertical-align: top\">97</td>\n",
       "        <td style=\"padding-left: 1em; padding-right: 1em; text-align: center; vertical-align: top\">no_drift</td>\n",
       "    </tr>\n",
       "    <tr>\n",
       "        <td style=\"padding-left: 1em; padding-right: 1em; text-align: center; vertical-align: top\">0.8614092748286825</td>\n",
       "        <td style=\"padding-left: 1em; padding-right: 1em; text-align: center; vertical-align: top\">0.05032581361392627</td>\n",
       "        <td style=\"padding-left: 1em; padding-right: 1em; text-align: center; vertical-align: top\">0.8555818712072308</td>\n",
       "        <td style=\"padding-left: 1em; padding-right: 1em; text-align: center; vertical-align: top\">97</td>\n",
       "        <td style=\"padding-left: 1em; padding-right: 1em; text-align: center; vertical-align: top\">no_drift</td>\n",
       "    </tr>\n",
       "    <tr>\n",
       "        <td style=\"padding-left: 1em; padding-right: 1em; text-align: center; vertical-align: top\">0.8723431148045975</td>\n",
       "        <td style=\"padding-left: 1em; padding-right: 1em; text-align: center; vertical-align: top\">0.053838090083069945</td>\n",
       "        <td style=\"padding-left: 1em; padding-right: 1em; text-align: center; vertical-align: top\">0.8442823371075167</td>\n",
       "        <td style=\"padding-left: 1em; padding-right: 1em; text-align: center; vertical-align: top\">97</td>\n",
       "        <td style=\"padding-left: 1em; padding-right: 1em; text-align: center; vertical-align: top\">no_drift</td>\n",
       "    </tr>\n",
       "    <tr>\n",
       "        <td style=\"padding-left: 1em; padding-right: 1em; text-align: center; vertical-align: top\">0.8723431148045975</td>\n",
       "        <td style=\"padding-left: 1em; padding-right: 1em; text-align: center; vertical-align: top\">0.053838090083069945</td>\n",
       "        <td style=\"padding-left: 1em; padding-right: 1em; text-align: center; vertical-align: top\">0.8442823371075167</td>\n",
       "        <td style=\"padding-left: 1em; padding-right: 1em; text-align: center; vertical-align: top\">97</td>\n",
       "        <td style=\"padding-left: 1em; padding-right: 1em; text-align: center; vertical-align: top\">no_drift</td>\n",
       "    </tr>\n",
       "    <tr>\n",
       "        <td style=\"padding-left: 1em; padding-right: 1em; text-align: center; vertical-align: top\">0.8772966270253274</td>\n",
       "        <td style=\"padding-left: 1em; padding-right: 1em; text-align: center; vertical-align: top\">0.05388568190514506</td>\n",
       "        <td style=\"padding-left: 1em; padding-right: 1em; text-align: center; vertical-align: top\">0.8420344860465551</td>\n",
       "        <td style=\"padding-left: 1em; padding-right: 1em; text-align: center; vertical-align: top\">97</td>\n",
       "        <td style=\"padding-left: 1em; padding-right: 1em; text-align: center; vertical-align: top\">no_drift</td>\n",
       "    </tr>\n",
       "</table>\n",
       "[10 rows x 5 columns]<br/>\n",
       "</div>"
      ],
      "text/plain": [
       "Columns:\n",
       "\tacc_x\tfloat\n",
       "\tacc_y\tfloat\n",
       "\tacc_z\tfloat\n",
       "\texp_id\tint\n",
       "\tactivity\tstr\n",
       "\n",
       "Rows: 10\n",
       "\n",
       "Data:\n",
       "+--------------------+----------------------+--------------------+--------+\n",
       "|       acc_x        |        acc_y         |       acc_z        | exp_id |\n",
       "+--------------------+----------------------+--------------------+--------+\n",
       "| 0.8689566699493465 | 0.030194472876151485 | 0.8398534896490352 |   97   |\n",
       "| 0.8648677051106162 | 0.032402733420436924 | 0.8413133324638574 |   97   |\n",
       "| 0.8648677051106162 | 0.032402733420436924 | 0.8413133324638574 |   97   |\n",
       "| 0.8605266709015283 | 0.03356556027313898  | 0.8519728153594756 |   97   |\n",
       "| 0.8605266709015283 | 0.03356556027313898  | 0.8519728153594756 |   97   |\n",
       "| 0.8580228299734316 | 0.04306171517119414  | 0.855810930627875  |   97   |\n",
       "| 0.8614092748286825 | 0.05032581361392627  | 0.8555818712072308 |   97   |\n",
       "| 0.8723431148045975 | 0.053838090083069945 | 0.8442823371075167 |   97   |\n",
       "| 0.8723431148045975 | 0.053838090083069945 | 0.8442823371075167 |   97   |\n",
       "| 0.8772966270253274 | 0.05388568190514506  | 0.8420344860465551 |   97   |\n",
       "+--------------------+----------------------+--------------------+--------+\n",
       "+----------+\n",
       "| activity |\n",
       "+----------+\n",
       "| no_drift |\n",
       "| no_drift |\n",
       "| no_drift |\n",
       "| no_drift |\n",
       "| no_drift |\n",
       "| no_drift |\n",
       "| no_drift |\n",
       "| no_drift |\n",
       "| no_drift |\n",
       "| no_drift |\n",
       "+----------+\n",
       "[10 rows x 5 columns]"
      ]
     },
     "execution_count": 8,
     "metadata": {},
     "output_type": "execute_result"
    }
   ],
   "source": [
    "# Visualize the data\n",
    "driftSFrame.head()"
   ]
  },
  {
   "cell_type": "markdown",
   "metadata": {},
   "source": [
    "## Train the Model with Turicreate"
   ]
  },
  {
   "cell_type": "code",
   "execution_count": 9,
   "metadata": {},
   "outputs": [
    {
     "name": "stdout",
     "output_type": "stream",
     "text": [
      "The dataset has less than the minimum of 100 sessions required for train-validation split. Continuing without validation set\n"
     ]
    },
    {
     "data": {
      "text/html": [
       "<pre>Pre-processing 4900 samples...</pre>"
      ],
      "text/plain": [
       "Pre-processing 4900 samples..."
      ]
     },
     "metadata": {},
     "output_type": "display_data"
    },
    {
     "data": {
      "text/html": [
       "<pre>Using sequences of size 1000 for model creation.</pre>"
      ],
      "text/plain": [
       "Using sequences of size 1000 for model creation."
      ]
     },
     "metadata": {},
     "output_type": "display_data"
    },
    {
     "data": {
      "text/html": [
       "<pre>Processed a total of 98 sessions.</pre>"
      ],
      "text/plain": [
       "Processed a total of 98 sessions."
      ]
     },
     "metadata": {},
     "output_type": "display_data"
    },
    {
     "name": "stdout",
     "output_type": "stream",
     "text": [
      "Using GPU to create model (AMD Radeon Pro 560)\n",
      "+----------------+----------------+----------------+----------------+\n",
      "| Iteration      | Train Accuracy | Train Loss     | Elapsed Time   |\n",
      "+----------------+----------------+----------------+----------------+\n",
      "| 1              | 0.375          | 0.083          | 0.1            |\n",
      "| 2              | 0.805          | 0.023          | 0.3            |\n",
      "| 3              | 0.805          | 0.018          | 0.4            |\n",
      "| 4              | 0.922          | 0.011          | 0.5            |\n",
      "| 5              | 0.836          | 0.012          | 0.6            |\n",
      "| 6              | 0.984          | 0.004          | 0.7            |\n",
      "| 7              | 0.992          | 0.003          | 0.8            |\n",
      "| 8              | 0.992          | 0.001          | 0.9            |\n",
      "| 9              | 0.969          | 0.002          | 1.1            |\n",
      "| 10             | 0.992          | 0.001          | 1.2            |\n",
      "+----------------+----------------+----------------+----------------+\n",
      "Training complete\n",
      "Total Time Spent: 1.24111s\n",
      "1.0\n"
     ]
    }
   ],
   "source": [
    "# Load sessions from preprocessed data\n",
    "data = driftSFrame\n",
    "\n",
    "# Train/test split by recording sessions\n",
    "train, test = tc.activity_classifier.util.random_split_by_session(data, session_id='exp_id', fraction=0.8)\n",
    "\n",
    "# Create an activity classifier\n",
    "model = tc.activity_classifier.create(train, session_id='exp_id', target='activity',\n",
    "                                      prediction_window=50, max_iterations=10, batch_size=32)\n",
    "\n",
    "# Evaluate the model and save the results into a dictionary\n",
    "metrics = model.evaluate(test)\n",
    "print(metrics['accuracy'])\n",
    "\n",
    "# Save the model for later use in Turi Create\n",
    "model.save('mymodel.model')\n",
    "\n",
    "# Export for use in Core ML\n",
    "model.export_coreml('DriftClassifier.mlmodel')"
   ]
  },
  {
   "cell_type": "code",
   "execution_count": null,
   "metadata": {},
   "outputs": [],
   "source": []
  }
 ],
 "metadata": {
  "kernelspec": {
   "display_name": "Python 3",
   "language": "python",
   "name": "python3"
  },
  "language_info": {
   "codemirror_mode": {
    "name": "ipython",
    "version": 3
   },
   "file_extension": ".py",
   "mimetype": "text/x-python",
   "name": "python",
   "nbconvert_exporter": "python",
   "pygments_lexer": "ipython3",
   "version": "3.6.5"
  }
 },
 "nbformat": 4,
 "nbformat_minor": 2
}
